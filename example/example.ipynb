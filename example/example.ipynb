{
 "cells": [
  {
   "cell_type": "markdown",
   "id": "196d899d-3989-4d95-9124-db1f89663123",
   "metadata": {},
   "source": [
    "# This kernel is just pure markdown, even the codecells!"
   ]
  },
  {
   "cell_type": "code",
   "execution_count": 1,
   "id": "19fcd6b1-e097-4538-9764-73233a95d9a9",
   "metadata": {},
   "outputs": [
    {
     "data": {
      "text/markdown": [
       "## Markdown\n",
       "### Markdown\n",
       "#### Markdown\n",
       "##### So much Markdown\n",
       "\n",
       "| Nr | Name | Alter |\n",
       "| :--- | :--- | ---: |\n",
       "| 1 | Jan | 40 |\n",
       "| 2 | Tom | 33 |\n",
       "| 3 | Johannes | 7 |\n",
       "| 4 | Petra | 105 |"
      ]
     },
     "metadata": {},
     "output_type": "display_data"
    }
   ],
   "source": [
    "## Markdown\n",
    "### Markdown\n",
    "#### Markdown\n",
    "##### So much Markdown\n",
    "\n",
    "| Nr | Name | Alter |\n",
    "| :--- | :--- | ---: |\n",
    "| 1 | Jan | 40 |\n",
    "| 2 | Tom | 33 |\n",
    "| 3 | Johannes | 7 |\n",
    "| 4 | Petra | 105 |"
   ]
  }
 ],
 "metadata": {
  "kernelspec": {
   "display_name": "Markdown",
   "language": "",
   "name": "jansmarkdownkernel"
  },
  "language_info": {
   "file_extension": ".md",
   "mimetype": "text/x-markdown",
   "name": "Markdown"
  }
 },
 "nbformat": 4,
 "nbformat_minor": 5
}
