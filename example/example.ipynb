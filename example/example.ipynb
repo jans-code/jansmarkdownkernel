{
 "cells": [
  {
   "cell_type": "markdown",
   "id": "196d899d-3989-4d95-9124-db1f89663123",
   "metadata": {},
   "source": [
    "# This kernel is just pure markdown, even the codecells!"
   ]
  },
  {
   "cell_type": "code",
   "execution_count": 1,
   "id": "19fcd6b1-e097-4538-9764-73233a95d9a9",
   "metadata": {},
   "outputs": [
    {
     "data": {
      "text/markdown": [
       "## Markdown\n",
       "### Markdown\n",
       "#### Markdown\n",
       "##### So much Markdown\n",
       "\n",
       "| Nr | Name | Age |\n",
       "| :--- | :--- | ---: |\n",
       "| 1 | Bob | 40 |\n",
       "| 2 | Barbara | 33 |\n",
       "| 3 | Johnny | 7 |\n",
       "| 4 | Stella | 105 |"
      ]
     },
     "metadata": {},
     "output_type": "display_data"
    }
   ],
   "source": [
    "## Markdown\n",
    "### Markdown\n",
    "#### Markdown\n",
    "##### So much Markdown\n",
    "\n",
    "| Nr | Name | Age |\n",
    "| :--- | :--- | ---: |\n",
    "| 1 | Bob | 40 |\n",
    "| 2 | Barbara | 33 |\n",
    "| 3 | Johnny | 7 |\n",
    "| 4 | Stella | 105 |"
   ]
  },
  {
   "cell_type": "code",
   "execution_count": 2,
   "id": "501b7e7e-79d6-4ae8-8cb6-ad2d4282d099",
   "metadata": {},
   "outputs": [
    {
     "data": {
      "text/markdown": [
       "```javascript\n",
       "console.log(\"Hi Markdown!\")\n",
       "```"
      ]
     },
     "metadata": {},
     "output_type": "display_data"
    }
   ],
   "source": [
    "```javascript\n",
    "console.log(\"Hi Markdown!\")\n",
    "```"
   ]
  }
 ],
 "metadata": {
  "kernelspec": {
   "display_name": "Markdown",
   "language": "",
   "name": "jansmarkdownkernel"
  },
  "language_info": {
   "file_extension": ".md",
   "mimetype": "text/x-markdown",
   "name": "Markdown"
  }
 },
 "nbformat": 4,
 "nbformat_minor": 5
}
